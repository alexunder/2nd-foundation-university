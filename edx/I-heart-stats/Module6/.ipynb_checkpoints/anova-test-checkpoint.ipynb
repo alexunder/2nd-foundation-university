{
 "cells": [
  {
   "cell_type": "code",
   "execution_count": 23,
   "metadata": {},
   "outputs": [
    {
     "data": {
      "text/html": [
       "<div>\n",
       "<style>\n",
       "    .dataframe thead tr:only-child th {\n",
       "        text-align: right;\n",
       "    }\n",
       "\n",
       "    .dataframe thead th {\n",
       "        text-align: left;\n",
       "    }\n",
       "\n",
       "    .dataframe tbody tr th {\n",
       "        vertical-align: top;\n",
       "    }\n",
       "</style>\n",
       "<table border=\"1\" class=\"dataframe\">\n",
       "  <thead>\n",
       "    <tr style=\"text-align: right;\">\n",
       "      <th></th>\n",
       "      <th>Mystery</th>\n",
       "      <th>Biography</th>\n",
       "      <th>Novels</th>\n",
       "      <th>Non-Fiction</th>\n",
       "    </tr>\n",
       "  </thead>\n",
       "  <tbody>\n",
       "    <tr>\n",
       "      <th>0</th>\n",
       "      <td>1</td>\n",
       "      <td>1</td>\n",
       "      <td>28</td>\n",
       "      <td>13</td>\n",
       "    </tr>\n",
       "    <tr>\n",
       "      <th>1</th>\n",
       "      <td>20</td>\n",
       "      <td>15</td>\n",
       "      <td>4</td>\n",
       "      <td>25</td>\n",
       "    </tr>\n",
       "    <tr>\n",
       "      <th>2</th>\n",
       "      <td>13</td>\n",
       "      <td>7</td>\n",
       "      <td>5</td>\n",
       "      <td>9</td>\n",
       "    </tr>\n",
       "    <tr>\n",
       "      <th>3</th>\n",
       "      <td>0</td>\n",
       "      <td>10</td>\n",
       "      <td>21</td>\n",
       "      <td>18</td>\n",
       "    </tr>\n",
       "    <tr>\n",
       "      <th>4</th>\n",
       "      <td>3</td>\n",
       "      <td>14</td>\n",
       "      <td>25</td>\n",
       "      <td>10</td>\n",
       "    </tr>\n",
       "    <tr>\n",
       "      <th>5</th>\n",
       "      <td>5</td>\n",
       "      <td>5</td>\n",
       "      <td>11</td>\n",
       "      <td>25</td>\n",
       "    </tr>\n",
       "    <tr>\n",
       "      <th>6</th>\n",
       "      <td>13</td>\n",
       "      <td>3</td>\n",
       "      <td>21</td>\n",
       "      <td>21</td>\n",
       "    </tr>\n",
       "    <tr>\n",
       "      <th>7</th>\n",
       "      <td>7</td>\n",
       "      <td>12</td>\n",
       "      <td>3</td>\n",
       "      <td>6</td>\n",
       "    </tr>\n",
       "    <tr>\n",
       "      <th>8</th>\n",
       "      <td>14</td>\n",
       "      <td>2</td>\n",
       "      <td>12</td>\n",
       "      <td>24</td>\n",
       "    </tr>\n",
       "    <tr>\n",
       "      <th>9</th>\n",
       "      <td>7</td>\n",
       "      <td>6</td>\n",
       "      <td>2</td>\n",
       "      <td>18</td>\n",
       "    </tr>\n",
       "  </tbody>\n",
       "</table>\n",
       "</div>"
      ],
      "text/plain": [
       "   Mystery  Biography  Novels  Non-Fiction\n",
       "0        1          1      28           13\n",
       "1       20         15       4           25\n",
       "2       13          7       5            9\n",
       "3        0         10      21           18\n",
       "4        3         14      25           10\n",
       "5        5          5      11           25\n",
       "6       13          3      21           21\n",
       "7        7         12       3            6\n",
       "8       14          2      12           24\n",
       "9        7          6       2           18"
      ]
     },
     "metadata": {},
     "output_type": "display_data"
    }
   ],
   "source": [
    "%matplotlib inline \n",
    "\n",
    "import pandas as pd\n",
    "import numpy as np\n",
    "\n",
    "datafile = \"anova-hw-1.csv\"\n",
    "\n",
    "dataframe = pd.read_csv(\"anova-hw-1.csv\")\n",
    "display(dataframe)"
   ]
  },
  {
   "cell_type": "code",
   "execution_count": 25,
   "metadata": {},
   "outputs": [
    {
     "name": "stdout",
     "output_type": "stream",
     "text": [
      "mean of Mystery is:8.3\n",
      "mean of Biography is:7.5\n",
      "mean of Novels is:13.2\n",
      "mean of Non-Fiction is:16.9\n"
     ]
    },
    {
     "data": {
      "text/plain": [
       "Mystery         8.3\n",
       "Biography       7.5\n",
       "Novels         13.2\n",
       "Non-Fiction    16.9\n",
       "dtype: float64"
      ]
     },
     "metadata": {},
     "output_type": "display_data"
    },
    {
     "name": "stdout",
     "output_type": "stream",
     "text": [
      "The overall mean is=11.475\n"
     ]
    },
    {
     "data": {
      "text/plain": [
       "F_onewayResult(statistic=3.648479474205832, pvalue=0.021441572478582339)"
      ]
     },
     "execution_count": 25,
     "metadata": {},
     "output_type": "execute_result"
    }
   ],
   "source": [
    "import scipy.stats as stats\n",
    "\n",
    "mystery_mean = np.mean(dataframe.Mystery)\n",
    "print(\"mean of Mystery is:\" + str(mystery_mean))\n",
    "\n",
    "biography_mean = np.mean(dataframe.Biography)\n",
    "print(\"mean of Biography is:\" + str(biography_mean))\n",
    "\n",
    "novels_mean = np.mean(dataframe.Novels)\n",
    "print(\"mean of Novels is:\" + str(novels_mean))\n",
    "\n",
    "NonFiction_mean = np.mean(dataframe['Non-Fiction'])\n",
    "print(\"mean of Non-Fiction is:\" + str(NonFiction_mean))\n",
    "\n",
    "mean_frame = dataframe.mean()\n",
    "display(mean_frame)\n",
    "total_mean = mean_frame.mean()\n",
    "print(\"The overall mean is=\" + str(total_mean))\n",
    "\n",
    "stats.f_oneway(dataframe['Mystery'], dataframe['Biography'], dataframe['Novels'], dataframe['Non-Fiction'])"
   ]
  },
  {
   "cell_type": "code",
   "execution_count": null,
   "metadata": {
    "collapsed": true
   },
   "outputs": [],
   "source": []
  }
 ],
 "metadata": {
  "kernelspec": {
   "display_name": "Python 3",
   "language": "python",
   "name": "python3"
  },
  "language_info": {
   "codemirror_mode": {
    "name": "ipython",
    "version": 3
   },
   "file_extension": ".py",
   "mimetype": "text/x-python",
   "name": "python",
   "nbconvert_exporter": "python",
   "pygments_lexer": "ipython3",
   "version": "3.6.2"
  }
 },
 "nbformat": 4,
 "nbformat_minor": 2
}
